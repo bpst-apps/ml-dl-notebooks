{
 "cells": [
  {
   "cell_type": "markdown",
   "id": "27fccdca",
   "metadata": {},
   "source": [
    "## Problem Statement\n",
    "You work for a policy consulting firm. One of the firm's principals is preparing to give a presentation on the state of internet access in the world. She needs your help answering some questions about internet accessibility across the world.\n",
    "\n",
    "## 💪 Challenge\n",
    "Create a report to answer the principal's questions. Include:\n",
    "\n",
    "1. What are the top 5 countries with the highest internet use (by population share)?\n",
    "2. How many people had internet access in those countries in 2019?\n",
    "3. What are the top 5 countries with the highest internet use for each of the following regions: 'Africa Eastern and Southern', 'Africa Western and Central', 'Latin America & Caribbean', 'East Asia & Pacific', 'South Asia', 'North America', 'European Union'?\n",
    "4. Create a visualization for those five regions' internet usage over time.\n",
    "5. What are the 5 countries with the most internet users?\n",
    "6. What is the correlation between internet usage (population share) and broadband subscriptions for 2019?\n",
    "7. Summarize your findings."
   ]
  },
  {
   "cell_type": "code",
   "execution_count": 1,
   "id": "06c55628",
   "metadata": {},
   "outputs": [],
   "source": [
    "# Importing required packages\n",
    "import pandas as pd\n",
    "import numpy as np\n",
    "import seaborn as sns\n",
    "import matplotlib.pyplot as plt\n",
    "import plotly.express as px"
   ]
  },
  {
   "cell_type": "code",
   "execution_count": null,
   "id": "16b25e86",
   "metadata": {},
   "outputs": [],
   "source": [
    "# Loading data\n",
    "people = pd.read_csv('data/people.csv')\n",
    "people = pd.read_csv('data/people.csv')\n",
    "people = pd.read_csv('data/people.csv')"
   ]
  }
 ],
 "metadata": {
  "kernelspec": {
   "display_name": "Python 3 (ipykernel)",
   "language": "python",
   "name": "python3"
  },
  "language_info": {
   "codemirror_mode": {
    "name": "ipython",
    "version": 3
   },
   "file_extension": ".py",
   "mimetype": "text/x-python",
   "name": "python",
   "nbconvert_exporter": "python",
   "pygments_lexer": "ipython3",
   "version": "3.9.12"
  }
 },
 "nbformat": 4,
 "nbformat_minor": 5
}
